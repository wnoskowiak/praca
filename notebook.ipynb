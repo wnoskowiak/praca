{
 "cells": [
  {
   "cell_type": "code",
   "execution_count": 1,
   "metadata": {},
   "outputs": [],
   "source": [
    "import h5py\n",
    "import numpy as np"
   ]
  },
  {
   "cell_type": "code",
   "execution_count": 2,
   "metadata": {},
   "outputs": [],
   "source": [
    "dataPath = '/scratch_cmsse/akalinow/Neutrinos/data/MicroBooNE/Inclusive_with_wire_info/'"
   ]
  },
  {
   "cell_type": "code",
   "execution_count": null,
   "metadata": {},
   "outputs": [],
   "source": [
    "class FileWrapper:\n",
    "    pathPrefixDefault = '/scratch_cmsse/akalinow/Neutrinos/data/MicroBooNE/Inclusive_with_wire_info/'\n",
    "    \n",
    "    def __init__(self, fileName, pathPrefix = pathPrefixDefault):\n",
    "        self.filePath = pathPrefix + fileName\n",
    "        self.file = h5py.File(self.filePath, \"r\")\n",
    "        \n",
    "    def __getitem__(self, key):\n",
    "        return self.file[key]\n",
    "\n",
    "    def __del__(self):\n",
    "        self.file.close() "
   ]
  },
  {
   "cell_type": "code",
   "execution_count": 26,
   "metadata": {},
   "outputs": [],
   "source": [
    "class DataFileClass:\n",
    "    \n",
    "    pathPrefixDefault = '/scratch_cmsse/akalinow/Neutrinos/data/MicroBooNE/Inclusive_with_wire_info/'\n",
    "    \n",
    "    class _DataClassFileHelper:\n",
    "        def __init__(self, parent, myField):\n",
    "            self.parent = parent\n",
    "            self.myField = myField\n",
    "            print(\"test3\")\n",
    "            with h5py.File(self.parent.filePath, \"r\") as f:\n",
    "                self.keysVal = list(f[myField].keys())\n",
    "                print(self.keysVal)\n",
    "            print(\"test4\")\n",
    "                \n",
    "        def keys(self):\n",
    "            return self.keysVal\n",
    "\n",
    "        def __getitem__(self, key):\n",
    "            with h5py.File(self.parent.filePath, \"r\") as f:\n",
    "                return f[self.myField][key][()]\n",
    "\n",
    "    \n",
    "    def __init__(self, fileName, pathPrefix = pathPrefixDefault):\n",
    "        self.filePath = pathPrefix + fileName\n",
    "        with h5py.File(self.filePath, \"r\") as f:\n",
    "            self._keyHandlers = {key: None for key in list(f.keys())}\n",
    "            \n",
    "    def keys(self):\n",
    "        return list(self._keyHandlers.keys())\n",
    "\n",
    "    def __getitem__(self, key):\n",
    "        print(\"test1\")\n",
    "        if(self._keyHandlers[key] == None):\n",
    "            print(\"test2\")\n",
    "            self._keyHandlers[key] = self._DataClassFileHelper(self, key)\n",
    "        return self._keyHandlers[key]\n"
   ]
  },
  {
   "cell_type": "code",
   "execution_count": 27,
   "metadata": {},
   "outputs": [],
   "source": [
    "a = DataFileClass('bnb_WithWire_00.h5')"
   ]
  },
  {
   "cell_type": "code",
   "execution_count": 28,
   "metadata": {},
   "outputs": [
    {
     "name": "stdout",
     "output_type": "stream",
     "text": [
      "test1\n",
      "test2\n",
      "test3\n",
      "['energy', 'energy_fraction', 'event_id', 'event_id.seq_cnt', 'g4_id', 'hit_id']\n",
      "test4\n"
     ]
    },
    {
     "data": {
      "text/plain": [
       "['energy',\n",
       " 'energy_fraction',\n",
       " 'event_id',\n",
       " 'event_id.seq_cnt',\n",
       " 'g4_id',\n",
       " 'hit_id']"
      ]
     },
     "execution_count": 28,
     "metadata": {},
     "output_type": "execute_result"
    }
   ],
   "source": [
    "a['edep_table'].keys()"
   ]
  },
  {
   "cell_type": "code",
   "execution_count": null,
   "metadata": {},
   "outputs": [
    {
     "data": {
      "text/plain": [
       "{'edep_table': {'energy': <Closed HDF5 dataset>,\n",
       "  'energy_fraction': <Closed HDF5 dataset>,\n",
       "  'event_id': <Closed HDF5 dataset>,\n",
       "  'event_id.seq_cnt': <Closed HDF5 dataset>,\n",
       "  'g4_id': <Closed HDF5 dataset>,\n",
       "  'hit_id': <Closed HDF5 dataset>},\n",
       " 'event_table': {'event_id': <Closed HDF5 dataset>,\n",
       "  'event_id.seq_cnt': <Closed HDF5 dataset>,\n",
       "  'is_cc': <Closed HDF5 dataset>,\n",
       "  'lep_energy': <Closed HDF5 dataset>,\n",
       "  'nu_dir': <Closed HDF5 dataset>,\n",
       "  'nu_energy': <Closed HDF5 dataset>,\n",
       "  'nu_pdg': <Closed HDF5 dataset>,\n",
       "  'nu_vtx': <Closed HDF5 dataset>,\n",
       "  'nu_vtx_corr': <Closed HDF5 dataset>,\n",
       "  'nu_vtx_wire_pos': <Closed HDF5 dataset>,\n",
       "  'nu_vtx_wire_time': <Closed HDF5 dataset>},\n",
       " 'hit_table': {'event_id': <Closed HDF5 dataset>,\n",
       "  'event_id.seq_cnt': <Closed HDF5 dataset>,\n",
       "  'hit_id': <Closed HDF5 dataset>,\n",
       "  'integral': <Closed HDF5 dataset>,\n",
       "  'local_plane': <Closed HDF5 dataset>,\n",
       "  'local_time': <Closed HDF5 dataset>,\n",
       "  'local_wire': <Closed HDF5 dataset>,\n",
       "  'rms': <Closed HDF5 dataset>,\n",
       "  'tpc': <Closed HDF5 dataset>},\n",
       " 'opflash_table': {'event_id': <Closed HDF5 dataset>,\n",
       "  'event_id.seq_cnt': <Closed HDF5 dataset>,\n",
       "  'flash_id': <Closed HDF5 dataset>,\n",
       "  'time': <Closed HDF5 dataset>,\n",
       "  'time_width': <Closed HDF5 dataset>,\n",
       "  'totalpe': <Closed HDF5 dataset>,\n",
       "  'wire_pos': <Closed HDF5 dataset>,\n",
       "  'y_center': <Closed HDF5 dataset>,\n",
       "  'y_width': <Closed HDF5 dataset>,\n",
       "  'z_center': <Closed HDF5 dataset>,\n",
       "  'z_width': <Closed HDF5 dataset>},\n",
       " 'opflashsumpe_table': {'event_id': <Closed HDF5 dataset>,\n",
       "  'event_id.seq_cnt': <Closed HDF5 dataset>,\n",
       "  'flash_id': <Closed HDF5 dataset>,\n",
       "  'pmt_channel': <Closed HDF5 dataset>,\n",
       "  'sumpe': <Closed HDF5 dataset>,\n",
       "  'sumpe_id': <Closed HDF5 dataset>},\n",
       " 'ophit_table': {'amplitude': <Closed HDF5 dataset>,\n",
       "  'area': <Closed HDF5 dataset>,\n",
       "  'event_id': <Closed HDF5 dataset>,\n",
       "  'event_id.seq_cnt': <Closed HDF5 dataset>,\n",
       "  'hit_channel': <Closed HDF5 dataset>,\n",
       "  'hit_id': <Closed HDF5 dataset>,\n",
       "  'pe': <Closed HDF5 dataset>,\n",
       "  'peaktime': <Closed HDF5 dataset>,\n",
       "  'sumpe_id': <Closed HDF5 dataset>,\n",
       "  'width': <Closed HDF5 dataset>,\n",
       "  'wire_pos': <Closed HDF5 dataset>},\n",
       " 'pandoraHit_table': {'event_id': <Closed HDF5 dataset>,\n",
       "  'event_id.seq_cnt': <Closed HDF5 dataset>,\n",
       "  'hit_id': <Closed HDF5 dataset>,\n",
       "  'pfp_id': <Closed HDF5 dataset>,\n",
       "  'slice_id': <Closed HDF5 dataset>},\n",
       " 'pandoraPfp_table': {'event_id': <Closed HDF5 dataset>,\n",
       "  'event_id.seq_cnt': <Closed HDF5 dataset>,\n",
       "  'pfp_id': <Closed HDF5 dataset>,\n",
       "  'pfp_pdg': <Closed HDF5 dataset>,\n",
       "  'trkshr_score': <Closed HDF5 dataset>,\n",
       "  'vtx': <Closed HDF5 dataset>,\n",
       "  'vtx_wire_pos': <Closed HDF5 dataset>,\n",
       "  'vtx_wire_time': <Closed HDF5 dataset>},\n",
       " 'pandoraPrimary_table': {'event_id': <Closed HDF5 dataset>,\n",
       "  'event_id.seq_cnt': <Closed HDF5 dataset>,\n",
       "  'flashmatch_score': <Closed HDF5 dataset>,\n",
       "  'nu_score': <Closed HDF5 dataset>,\n",
       "  'slice_id': <Closed HDF5 dataset>,\n",
       "  'slice_pdg': <Closed HDF5 dataset>,\n",
       "  'vtx': <Closed HDF5 dataset>,\n",
       "  'vtx_wire_pos': <Closed HDF5 dataset>,\n",
       "  'vtx_wire_time': <Closed HDF5 dataset>},\n",
       " 'particle_table': {'category': <Closed HDF5 dataset>,\n",
       "  'end_position': <Closed HDF5 dataset>,\n",
       "  'end_position_corr': <Closed HDF5 dataset>,\n",
       "  'end_process': <Closed HDF5 dataset>,\n",
       "  'end_wire_pos': <Closed HDF5 dataset>,\n",
       "  'end_wire_time': <Closed HDF5 dataset>,\n",
       "  'event_id': <Closed HDF5 dataset>,\n",
       "  'event_id.seq_cnt': <Closed HDF5 dataset>,\n",
       "  'g4_id': <Closed HDF5 dataset>,\n",
       "  'g4_pdg': <Closed HDF5 dataset>,\n",
       "  'instance': <Closed HDF5 dataset>,\n",
       "  'momentum': <Closed HDF5 dataset>,\n",
       "  'parent_id': <Closed HDF5 dataset>,\n",
       "  'start_position': <Closed HDF5 dataset>,\n",
       "  'start_position_corr': <Closed HDF5 dataset>,\n",
       "  'start_process': <Closed HDF5 dataset>,\n",
       "  'start_wire_pos': <Closed HDF5 dataset>,\n",
       "  'start_wire_time': <Closed HDF5 dataset>},\n",
       " 'wire_table': {'adc': <Closed HDF5 dataset>,\n",
       "  'event_id': <Closed HDF5 dataset>,\n",
       "  'event_id.seq_cnt': <Closed HDF5 dataset>,\n",
       "  'local_plane': <Closed HDF5 dataset>,\n",
       "  'local_wire': <Closed HDF5 dataset>,\n",
       "  'tpc': <Closed HDF5 dataset>}}"
      ]
     },
     "execution_count": 49,
     "metadata": {},
     "output_type": "execute_result"
    },
    {
     "ename": "",
     "evalue": "",
     "output_type": "error",
     "traceback": [
      "\u001b[1;31mnotebook controller is DISPOSED. \n",
      "\u001b[1;31mView Jupyter <a href='command:jupyter.viewOutput'>log</a> for further details."
     ]
    }
   ],
   "source": [
    "temp = load_data('bnb_WithWire_00.h5')\n",
    "temp"
   ]
  },
  {
   "cell_type": "code",
   "execution_count": null,
   "metadata": {},
   "outputs": [
    {
     "name": "stdout",
     "output_type": "stream",
     "text": [
      "[[0.15921488]\n",
      " [1.2997767 ]\n",
      " [0.00490719]\n",
      " ...\n",
      " [0.24402899]\n",
      " [0.55650055]\n",
      " [0.51431847]]\n"
     ]
    },
    {
     "ename": "",
     "evalue": "",
     "output_type": "error",
     "traceback": [
      "\u001b[1;31mnotebook controller is DISPOSED. \n",
      "\u001b[1;31mView Jupyter <a href='command:jupyter.viewOutput'>log</a> for further details."
     ]
    }
   ],
   "source": [
    "with h5py.File('/scratch_cmsse/akalinow/Neutrinos/data/MicroBooNE/Inclusive_with_wire_info/'+'bnb_WithWire_00.h5', 'r') as f:\n",
    "    # Access the dataset within the file\n",
    "    data = f['edep_table']['energy'][()]\n",
    "    print(data)"
   ]
  }
 ],
 "metadata": {
  "kernelspec": {
   "display_name": "Python 3 (ipykernel)",
   "language": "python",
   "name": "python3"
  },
  "language_info": {
   "codemirror_mode": {
    "name": "ipython",
    "version": 3
   },
   "file_extension": ".py",
   "mimetype": "text/x-python",
   "name": "python",
   "nbconvert_exporter": "python",
   "pygments_lexer": "ipython3",
   "version": "3.11.0rc1"
  }
 },
 "nbformat": 4,
 "nbformat_minor": 2
}
